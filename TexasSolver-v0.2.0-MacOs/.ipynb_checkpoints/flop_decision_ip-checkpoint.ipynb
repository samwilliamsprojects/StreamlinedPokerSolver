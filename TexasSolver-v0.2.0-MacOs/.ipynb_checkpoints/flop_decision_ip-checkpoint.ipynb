{
 "cells": [
  {
   "cell_type": "code",
   "execution_count": 1,
   "id": "16801fda",
   "metadata": {},
   "outputs": [],
   "source": [
    "import pandas as pd\n",
    "import json"
   ]
  },
  {
   "cell_type": "code",
   "execution_count": 2,
   "id": "fc820e4a",
   "metadata": {},
   "outputs": [],
   "source": [
    "f = open('output_result.json', 'r')\n",
    "data = json.load(f)"
   ]
  },
  {
   "cell_type": "code",
   "execution_count": 6,
   "id": "99f32e3b",
   "metadata": {},
   "outputs": [
    {
     "data": {
      "text/plain": [
       "{'deal_number': 0, 'node_type': 'chance_node'}"
      ]
     },
     "execution_count": 6,
     "metadata": {},
     "output_type": "execute_result"
    }
   ],
   "source": [
    "# Gives output of what to do when solver is given flop, a bet of 2.0, a turn, a bet of 4.0, a river, a bet of 4.0\n",
    "# output is [call, fold]\n",
    "data['childrens']['BET 25.000000']['childrens']['CALL']#['dealcards']['Jh']['childrens']['BET 4.000000']['childrens']['CALL']['dealcards']['Ah']['childrens']['BET 4.000000']['strategy']['strategy']['Tc9c']\n"
   ]
  },
  {
   "cell_type": "code",
   "execution_count": null,
   "id": "dab45508",
   "metadata": {},
   "outputs": [],
   "source": []
  },
  {
   "cell_type": "code",
   "execution_count": null,
   "id": "7242b898",
   "metadata": {},
   "outputs": [],
   "source": []
  }
 ],
 "metadata": {
  "kernelspec": {
   "display_name": "Python 3 (ipykernel)",
   "language": "python",
   "name": "python3"
  },
  "language_info": {
   "codemirror_mode": {
    "name": "ipython",
    "version": 3
   },
   "file_extension": ".py",
   "mimetype": "text/x-python",
   "name": "python",
   "nbconvert_exporter": "python",
   "pygments_lexer": "ipython3",
   "version": "3.8.15"
  }
 },
 "nbformat": 4,
 "nbformat_minor": 5
}
